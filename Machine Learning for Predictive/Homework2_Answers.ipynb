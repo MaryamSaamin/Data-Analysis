{
 "cells": [
  {
   "cell_type": "markdown",
   "id": "4022c06a",
   "metadata": {},
   "source": [
    "# Task 1"
   ]
  },
  {
   "cell_type": "markdown",
   "id": "d2d92512",
   "metadata": {},
   "source": [
    "# a"
   ]
  },
  {
   "cell_type": "code",
   "execution_count": 1,
   "id": "b9b13b71",
   "metadata": {},
   "outputs": [],
   "source": [
    "import warnings\n",
    "import numpy as np\n",
    "import pandas as pd\n",
    "from sklearn.model_selection import GridSearchCV, cross_val_score, train_test_split\n",
    "from sklearn.preprocessing import StandardScaler\n",
    "from sklearn.pipeline import Pipeline\n",
    "from sklearn.ensemble import RandomForestClassifier\n",
    "from sklearn.linear_model import LogisticRegression\n",
    "from sklearn.svm import SVC\n",
    "from sklearn.metrics import accuracy_score\n",
    "from sklearn.exceptions import ConvergenceWarning"
   ]
  },
  {
   "cell_type": "code",
   "execution_count": 2,
   "id": "b675d0bb",
   "metadata": {},
   "outputs": [
    {
     "name": "stdout",
     "output_type": "stream",
     "text": [
      "   Id       RI     Na    Mg    Al     Si     K    Ca   Ba   Fe  Type\n",
      "0   1  1.52101  13.64  4.49  1.10  71.78  0.06  8.75  0.0  0.0     1\n",
      "1   2  1.51761  13.89  3.60  1.36  72.73  0.48  7.83  0.0  0.0     1\n",
      "2   3  1.51618  13.53  3.55  1.54  72.99  0.39  7.78  0.0  0.0     1\n",
      "3   4  1.51766  13.21  3.69  1.29  72.61  0.57  8.22  0.0  0.0     1\n",
      "4   5  1.51742  13.27  3.62  1.24  73.08  0.55  8.07  0.0  0.0     1\n"
     ]
    }
   ],
   "source": [
    "url = \"https://archive.ics.uci.edu/ml/machine-learning-databases/glass/glass.data\"\n",
    "column_names = [\n",
    "    \"Id\",\n",
    "    \"RI\",\n",
    "    \"Na\",\n",
    "    \"Mg\",\n",
    "    \"Al\",\n",
    "    \"Si\",\n",
    "    \"K\",\n",
    "    \"Ca\",\n",
    "    \"Ba\",\n",
    "    \"Fe\",\n",
    "    \"Type\",\n",
    "]\n",
    "\n",
    "df = pd.read_csv(url, header=None, names=column_names)\n",
    "print(df.head())\n"
   ]
  },
  {
   "cell_type": "code",
   "execution_count": 3,
   "id": "674b0ace",
   "metadata": {},
   "outputs": [],
   "source": [
    "X = df.drop(\"Type\", axis=1)\n",
    "y = df[\"Type\"]"
   ]
  },
  {
   "cell_type": "code",
   "execution_count": 4,
   "id": "9f80155b",
   "metadata": {},
   "outputs": [
    {
     "data": {
      "text/plain": [
       "2    76\n",
       "1    70\n",
       "7    29\n",
       "3    17\n",
       "5    13\n",
       "6     9\n",
       "Name: Type, dtype: int64"
      ]
     },
     "execution_count": 4,
     "metadata": {},
     "output_type": "execute_result"
    }
   ],
   "source": [
    "df[\"Type\"].value_counts()  # with considering it , using multiclass"
   ]
  },
  {
   "cell_type": "code",
   "execution_count": 5,
   "id": "2d01b140",
   "metadata": {},
   "outputs": [],
   "source": [
    "X_train, X_test, y_train, y_test = train_test_split(X, y, test_size=0.2, random_state=42)\n"
   ]
  },
  {
   "cell_type": "markdown",
   "id": "4b73bc6a",
   "metadata": {},
   "source": [
    "pipelines = {\n",
    "    'RandomForest': Pipeline([\n",
    "        ('scaler', StandardScaler()),\n",
    "        ('clf', RandomForestClassifier())\n",
    "    ]),\n",
    "    'SVM': Pipeline([\n",
    "        ('scaler', StandardScaler()),\n",
    "        ('clf', SVC())\n",
    "    ])\n",
    "}"
   ]
  },
  {
   "cell_type": "markdown",
   "id": "ec0577c6",
   "metadata": {},
   "source": [
    "param_grids = {\n",
    "    'RandomForest': {\n",
    "        'clf__n_estimators': [50, 100, 200],\n",
    "        'clf__max_depth': [None, 10, 20],\n",
    "    },\n",
    "    'SVM': {\n",
    "        'clf__C': [0.1, 1, 10],\n",
    "        'clf__kernel': ['linear', 'rbf'],\n",
    "    }\n",
    "}"
   ]
  },
  {
   "cell_type": "code",
   "execution_count": 6,
   "id": "da0c32b9",
   "metadata": {},
   "outputs": [],
   "source": [
    "# I used StandardScaler because different range valuse in features"
   ]
  },
  {
   "cell_type": "code",
   "execution_count": 7,
   "id": "86ff611d",
   "metadata": {},
   "outputs": [],
   "source": [
    "pipelines = {\n",
    "    'LogisticRegression': Pipeline([  # Updated to use Logistic Regression\n",
    "        ('scaler', StandardScaler()),\n",
    "        ('clf', LogisticRegression())\n",
    "    ]),\n",
    "    'SVM': Pipeline([\n",
    "        ('scaler', StandardScaler()),\n",
    "        ('clf', SVC())\n",
    "    ])\n",
    "}\n",
    "\n",
    "param_grids = {\n",
    "    'LogisticRegression': {\n",
    "        'clf__C': [0.1, 1, 10],\n",
    "        'clf__penalty': ['l1', 'l2']\n",
    "    },\n",
    "    'SVM': {\n",
    "        'clf__C': [0.1, 1, 10],\n",
    "        'clf__kernel': ['linear', 'rbf'],\n",
    "    }\n",
    "}"
   ]
  },
  {
   "cell_type": "code",
   "execution_count": 8,
   "id": "e9a719c7",
   "metadata": {},
   "outputs": [],
   "source": [
    "#Find the best model"
   ]
  },
  {
   "cell_type": "code",
   "execution_count": 9,
   "id": "08be2cd7",
   "metadata": {},
   "outputs": [
    {
     "name": "stderr",
     "output_type": "stream",
     "text": [
      "C:\\ProgramData\\anaconda3\\Lib\\site-packages\\sklearn\\model_selection\\_validation.py:425: FitFailedWarning: \n",
      "15 fits failed out of a total of 30.\n",
      "The score on these train-test partitions for these parameters will be set to nan.\n",
      "If these failures are not expected, you can try to debug them by setting error_score='raise'.\n",
      "\n",
      "Below are more details about the failures:\n",
      "--------------------------------------------------------------------------------\n",
      "15 fits failed with the following error:\n",
      "Traceback (most recent call last):\n",
      "  File \"C:\\ProgramData\\anaconda3\\Lib\\site-packages\\sklearn\\model_selection\\_validation.py\", line 732, in _fit_and_score\n",
      "    estimator.fit(X_train, y_train, **fit_params)\n",
      "  File \"C:\\ProgramData\\anaconda3\\Lib\\site-packages\\sklearn\\base.py\", line 1151, in wrapper\n",
      "    return fit_method(estimator, *args, **kwargs)\n",
      "           ^^^^^^^^^^^^^^^^^^^^^^^^^^^^^^^^^^^^^^\n",
      "  File \"C:\\ProgramData\\anaconda3\\Lib\\site-packages\\sklearn\\pipeline.py\", line 420, in fit\n",
      "    self._final_estimator.fit(Xt, y, **fit_params_last_step)\n",
      "  File \"C:\\ProgramData\\anaconda3\\Lib\\site-packages\\sklearn\\base.py\", line 1151, in wrapper\n",
      "    return fit_method(estimator, *args, **kwargs)\n",
      "           ^^^^^^^^^^^^^^^^^^^^^^^^^^^^^^^^^^^^^^\n",
      "  File \"C:\\ProgramData\\anaconda3\\Lib\\site-packages\\sklearn\\linear_model\\_logistic.py\", line 1168, in fit\n",
      "    solver = _check_solver(self.solver, self.penalty, self.dual)\n",
      "             ^^^^^^^^^^^^^^^^^^^^^^^^^^^^^^^^^^^^^^^^^^^^^^^^^^^\n",
      "  File \"C:\\ProgramData\\anaconda3\\Lib\\site-packages\\sklearn\\linear_model\\_logistic.py\", line 56, in _check_solver\n",
      "    raise ValueError(\n",
      "ValueError: Solver lbfgs supports only 'l2' or 'none' penalties, got l1 penalty.\n",
      "\n",
      "  warnings.warn(some_fits_failed_message, FitFailedWarning)\n",
      "C:\\ProgramData\\anaconda3\\Lib\\site-packages\\sklearn\\model_selection\\_search.py:976: UserWarning: One or more of the test scores are non-finite: [       nan 0.76033613        nan 0.88907563        nan 0.93008403]\n",
      "  warnings.warn(\n"
     ]
    }
   ],
   "source": [
    "best_params = {}\n",
    "best_models = {}\n",
    "for model_name, pipeline in pipelines.items():\n",
    "    grid_search = GridSearchCV(pipeline, param_grids[model_name], cv=5, scoring='accuracy')\n",
    "    grid_search.fit(X_train, y_train)\n",
    "    best_models[model_name] = grid_search.best_estimator_\n",
    "    best_params[model_name] = grid_search.best_params_\n"
   ]
  },
  {
   "cell_type": "code",
   "execution_count": 10,
   "id": "96e6981f",
   "metadata": {},
   "outputs": [],
   "source": [
    "# Evaluate the best models"
   ]
  },
  {
   "cell_type": "code",
   "execution_count": 11,
   "id": "23f3dc28",
   "metadata": {},
   "outputs": [],
   "source": [
    "results = {}\n",
    "for model_name, model in best_models.items():\n",
    "    model.fit(X_train, y_train)\n",
    "    y_pred = model.predict(X_test)\n",
    "    accuracy = accuracy_score(y_test, y_pred)\n",
    "    results[model_name] = accuracy\n"
   ]
  },
  {
   "cell_type": "code",
   "execution_count": 12,
   "id": "4411b46d",
   "metadata": {},
   "outputs": [
    {
     "name": "stdout",
     "output_type": "stream",
     "text": [
      "LogisticRegression: Accuracy = 0.98\n",
      "SVM: Accuracy = 0.95\n"
     ]
    }
   ],
   "source": [
    "for model_name, accuracy in results.items():\n",
    "    print(f\"{model_name}: Accuracy = {accuracy:.2f}\")"
   ]
  },
  {
   "cell_type": "code",
   "execution_count": 13,
   "id": "21d9abdb",
   "metadata": {},
   "outputs": [
    {
     "name": "stdout",
     "output_type": "stream",
     "text": [
      "Best parameters for LogisticRegression: {'clf__C': 10, 'clf__penalty': 'l2'}\n",
      "Best parameters for SVM: {'clf__C': 10, 'clf__kernel': 'linear'}\n"
     ]
    }
   ],
   "source": [
    "for model_name, params in best_params.items():\n",
    "    print(f\"Best parameters for {model_name}: {params}\")"
   ]
  },
  {
   "cell_type": "markdown",
   "id": "b2b31562",
   "metadata": {},
   "source": [
    "# b"
   ]
  },
  {
   "cell_type": "code",
   "execution_count": 14,
   "id": "1b2ebfcd",
   "metadata": {},
   "outputs": [],
   "source": [
    "from sklearn.model_selection import cross_val_score, KFold, StratifiedKFold, LeaveOneOut\n",
    "\n",
    "cv_methods = {\n",
    "    'K-Fold': KFold(n_splits=5, shuffle=True, random_state=42),\n",
    "    'Stratified K-Fold': StratifiedKFold(n_splits=5, shuffle=True, random_state=42),\n",
    "    'Leave-One-Out': LeaveOneOut()\n",
    "}"
   ]
  },
  {
   "cell_type": "code",
   "execution_count": 15,
   "id": "dd4d219b",
   "metadata": {},
   "outputs": [
    {
     "name": "stdout",
     "output_type": "stream",
     "text": [
      "LogisticRegression (K-Fold): Mean Accuracy = 0.90\n",
      "LogisticRegression (Stratified K-Fold): Mean Accuracy = 0.90\n",
      "LogisticRegression (Leave-One-Out): Mean Accuracy = 0.91\n",
      "SVM (K-Fold): Mean Accuracy = 0.85\n",
      "SVM (Stratified K-Fold): Mean Accuracy = 0.86\n",
      "SVM (Leave-One-Out): Mean Accuracy = 0.88\n"
     ]
    }
   ],
   "source": [
    "results = {}\n",
    "for model_name, model in pipelines.items():\n",
    "    for cv_name, cv_method in cv_methods.items():\n",
    "        scores = cross_val_score(model, X, y, cv=cv_method, scoring='accuracy')\n",
    "        avg_accuracy = np.mean(scores)\n",
    "        results[f'{model_name} ({cv_name})'] = avg_accuracy\n",
    "\n",
    "# Print the results\n",
    "for result_name, accuracy in results.items():\n",
    "    print(f\"{result_name}: Mean Accuracy = {accuracy:.2f}\")"
   ]
  },
  {
   "cell_type": "markdown",
   "id": "b7782187",
   "metadata": {},
   "source": [
    "# C"
   ]
  },
  {
   "cell_type": "code",
   "execution_count": 16,
   "id": "06f7b146",
   "metadata": {},
   "outputs": [
    {
     "name": "stderr",
     "output_type": "stream",
     "text": [
      "C:\\Users\\User\\AppData\\Roaming\\Python\\Python311\\site-packages\\tpot\\builtins\\__init__.py:36: UserWarning: Warning: optional dependency `torch` is not available. - skipping import of NN models.\n",
      "  warnings.warn(\"Warning: optional dependency `torch` is not available. - skipping import of NN models.\")\n"
     ]
    },
    {
     "data": {
      "application/vnd.jupyter.widget-view+json": {
       "model_id": "",
       "version_major": 2,
       "version_minor": 0
      },
      "text/plain": [
       "Optimization Progress:   0%|          | 0/120 [00:00<?, ?pipeline/s]"
      ]
     },
     "metadata": {},
     "output_type": "display_data"
    },
    {
     "name": "stdout",
     "output_type": "stream",
     "text": [
      "\n",
      "Generation 1 - Current best internal CV score: 0.9823529411764707\n",
      "\n",
      "Generation 2 - Current best internal CV score: 0.9823529411764707\n",
      "\n",
      "Generation 3 - Current best internal CV score: 0.9825210084033614\n",
      "\n",
      "Generation 4 - Current best internal CV score: 0.9884033613445379\n",
      "\n",
      "Generation 5 - Current best internal CV score: 0.9884033613445379\n",
      "\n",
      "Best pipeline: RandomForestClassifier(input_matrix, bootstrap=True, criterion=gini, max_features=0.9500000000000001, min_samples_leaf=3, min_samples_split=6, n_estimators=100)\n",
      "AutoML (TPOT) Test Accuracy: 0.98\n"
     ]
    }
   ],
   "source": [
    "from tpot import TPOTClassifier\n",
    "tpot = TPOTClassifier(generations=5, population_size=20, verbosity=2, random_state=42, n_jobs=-1)\n",
    "tpot.fit(X_train, y_train)\n",
    "\n",
    "accuracy = tpot.score(X_test, y_test)\n",
    "print(f\"AutoML (TPOT) Test Accuracy: {accuracy:.2f}\")"
   ]
  },
  {
   "cell_type": "markdown",
   "id": "cd5433ec",
   "metadata": {},
   "source": [
    "# Task 2"
   ]
  },
  {
   "cell_type": "markdown",
   "id": "eacbd932",
   "metadata": {},
   "source": [
    "# a"
   ]
  },
  {
   "cell_type": "markdown",
   "id": "532b781c",
   "metadata": {},
   "source": [
    "import zipfile\n",
    "\n",
    "zip_file_path = r\"C:\\Users\\User\\Desktop\\New Faradars\\archive.zip\"\n",
    "\n",
    "with zipfile.ZipFile(zip_file_path, 'r') as zip_ref:\n",
    "    csv_file_name = \"sonar.all-data.csv\"\n",
    "    with zip_ref.open(csv_file_name) as file:\n",
    "        df = pd.read_csv(file)\n",
    "df.head(10)"
   ]
  },
  {
   "cell_type": "code",
   "execution_count": 17,
   "id": "4d1731c9",
   "metadata": {},
   "outputs": [
    {
     "data": {
      "text/html": [
       "<div>\n",
       "<style scoped>\n",
       "    .dataframe tbody tr th:only-of-type {\n",
       "        vertical-align: middle;\n",
       "    }\n",
       "\n",
       "    .dataframe tbody tr th {\n",
       "        vertical-align: top;\n",
       "    }\n",
       "\n",
       "    .dataframe thead th {\n",
       "        text-align: right;\n",
       "    }\n",
       "</style>\n",
       "<table border=\"1\" class=\"dataframe\">\n",
       "  <thead>\n",
       "    <tr style=\"text-align: right;\">\n",
       "      <th></th>\n",
       "      <th>freq_1</th>\n",
       "      <th>freq_2</th>\n",
       "      <th>freq_3</th>\n",
       "      <th>freq_4</th>\n",
       "      <th>freq_5</th>\n",
       "      <th>freq_6</th>\n",
       "      <th>freq_7</th>\n",
       "      <th>freq_8</th>\n",
       "      <th>freq_9</th>\n",
       "      <th>freq_10</th>\n",
       "      <th>...</th>\n",
       "      <th>freq_51</th>\n",
       "      <th>freq_52</th>\n",
       "      <th>freq_53</th>\n",
       "      <th>freq_54</th>\n",
       "      <th>freq_55</th>\n",
       "      <th>freq_56</th>\n",
       "      <th>freq_57</th>\n",
       "      <th>freq_58</th>\n",
       "      <th>freq_59</th>\n",
       "      <th>Label</th>\n",
       "    </tr>\n",
       "  </thead>\n",
       "  <tbody>\n",
       "    <tr>\n",
       "      <th>0.0200</th>\n",
       "      <td>0.0371</td>\n",
       "      <td>0.0428</td>\n",
       "      <td>0.0207</td>\n",
       "      <td>0.0954</td>\n",
       "      <td>0.0986</td>\n",
       "      <td>0.1539</td>\n",
       "      <td>0.1601</td>\n",
       "      <td>0.3109</td>\n",
       "      <td>0.2111</td>\n",
       "      <td>0.1609</td>\n",
       "      <td>...</td>\n",
       "      <td>0.0027</td>\n",
       "      <td>0.0065</td>\n",
       "      <td>0.0159</td>\n",
       "      <td>0.0072</td>\n",
       "      <td>0.0167</td>\n",
       "      <td>0.0180</td>\n",
       "      <td>0.0084</td>\n",
       "      <td>0.0090</td>\n",
       "      <td>0.0032</td>\n",
       "      <td>R</td>\n",
       "    </tr>\n",
       "    <tr>\n",
       "      <th>0.0453</th>\n",
       "      <td>0.0523</td>\n",
       "      <td>0.0843</td>\n",
       "      <td>0.0689</td>\n",
       "      <td>0.1183</td>\n",
       "      <td>0.2583</td>\n",
       "      <td>0.2156</td>\n",
       "      <td>0.3481</td>\n",
       "      <td>0.3337</td>\n",
       "      <td>0.2872</td>\n",
       "      <td>0.4918</td>\n",
       "      <td>...</td>\n",
       "      <td>0.0084</td>\n",
       "      <td>0.0089</td>\n",
       "      <td>0.0048</td>\n",
       "      <td>0.0094</td>\n",
       "      <td>0.0191</td>\n",
       "      <td>0.0140</td>\n",
       "      <td>0.0049</td>\n",
       "      <td>0.0052</td>\n",
       "      <td>0.0044</td>\n",
       "      <td>R</td>\n",
       "    </tr>\n",
       "    <tr>\n",
       "      <th>0.0262</th>\n",
       "      <td>0.0582</td>\n",
       "      <td>0.1099</td>\n",
       "      <td>0.1083</td>\n",
       "      <td>0.0974</td>\n",
       "      <td>0.2280</td>\n",
       "      <td>0.2431</td>\n",
       "      <td>0.3771</td>\n",
       "      <td>0.5598</td>\n",
       "      <td>0.6194</td>\n",
       "      <td>0.6333</td>\n",
       "      <td>...</td>\n",
       "      <td>0.0232</td>\n",
       "      <td>0.0166</td>\n",
       "      <td>0.0095</td>\n",
       "      <td>0.0180</td>\n",
       "      <td>0.0244</td>\n",
       "      <td>0.0316</td>\n",
       "      <td>0.0164</td>\n",
       "      <td>0.0095</td>\n",
       "      <td>0.0078</td>\n",
       "      <td>R</td>\n",
       "    </tr>\n",
       "    <tr>\n",
       "      <th>0.0100</th>\n",
       "      <td>0.0171</td>\n",
       "      <td>0.0623</td>\n",
       "      <td>0.0205</td>\n",
       "      <td>0.0205</td>\n",
       "      <td>0.0368</td>\n",
       "      <td>0.1098</td>\n",
       "      <td>0.1276</td>\n",
       "      <td>0.0598</td>\n",
       "      <td>0.1264</td>\n",
       "      <td>0.0881</td>\n",
       "      <td>...</td>\n",
       "      <td>0.0121</td>\n",
       "      <td>0.0036</td>\n",
       "      <td>0.0150</td>\n",
       "      <td>0.0085</td>\n",
       "      <td>0.0073</td>\n",
       "      <td>0.0050</td>\n",
       "      <td>0.0044</td>\n",
       "      <td>0.0040</td>\n",
       "      <td>0.0117</td>\n",
       "      <td>R</td>\n",
       "    </tr>\n",
       "    <tr>\n",
       "      <th>0.0762</th>\n",
       "      <td>0.0666</td>\n",
       "      <td>0.0481</td>\n",
       "      <td>0.0394</td>\n",
       "      <td>0.0590</td>\n",
       "      <td>0.0649</td>\n",
       "      <td>0.1209</td>\n",
       "      <td>0.2467</td>\n",
       "      <td>0.3564</td>\n",
       "      <td>0.4459</td>\n",
       "      <td>0.4152</td>\n",
       "      <td>...</td>\n",
       "      <td>0.0031</td>\n",
       "      <td>0.0054</td>\n",
       "      <td>0.0105</td>\n",
       "      <td>0.0110</td>\n",
       "      <td>0.0015</td>\n",
       "      <td>0.0072</td>\n",
       "      <td>0.0048</td>\n",
       "      <td>0.0107</td>\n",
       "      <td>0.0094</td>\n",
       "      <td>R</td>\n",
       "    </tr>\n",
       "    <tr>\n",
       "      <th>...</th>\n",
       "      <td>...</td>\n",
       "      <td>...</td>\n",
       "      <td>...</td>\n",
       "      <td>...</td>\n",
       "      <td>...</td>\n",
       "      <td>...</td>\n",
       "      <td>...</td>\n",
       "      <td>...</td>\n",
       "      <td>...</td>\n",
       "      <td>...</td>\n",
       "      <td>...</td>\n",
       "      <td>...</td>\n",
       "      <td>...</td>\n",
       "      <td>...</td>\n",
       "      <td>...</td>\n",
       "      <td>...</td>\n",
       "      <td>...</td>\n",
       "      <td>...</td>\n",
       "      <td>...</td>\n",
       "      <td>...</td>\n",
       "      <td>...</td>\n",
       "    </tr>\n",
       "    <tr>\n",
       "      <th>0.0187</th>\n",
       "      <td>0.0346</td>\n",
       "      <td>0.0168</td>\n",
       "      <td>0.0177</td>\n",
       "      <td>0.0393</td>\n",
       "      <td>0.1630</td>\n",
       "      <td>0.2028</td>\n",
       "      <td>0.1694</td>\n",
       "      <td>0.2328</td>\n",
       "      <td>0.2684</td>\n",
       "      <td>0.3108</td>\n",
       "      <td>...</td>\n",
       "      <td>0.0116</td>\n",
       "      <td>0.0098</td>\n",
       "      <td>0.0199</td>\n",
       "      <td>0.0033</td>\n",
       "      <td>0.0101</td>\n",
       "      <td>0.0065</td>\n",
       "      <td>0.0115</td>\n",
       "      <td>0.0193</td>\n",
       "      <td>0.0157</td>\n",
       "      <td>M</td>\n",
       "    </tr>\n",
       "    <tr>\n",
       "      <th>0.0323</th>\n",
       "      <td>0.0101</td>\n",
       "      <td>0.0298</td>\n",
       "      <td>0.0564</td>\n",
       "      <td>0.0760</td>\n",
       "      <td>0.0958</td>\n",
       "      <td>0.0990</td>\n",
       "      <td>0.1018</td>\n",
       "      <td>0.1030</td>\n",
       "      <td>0.2154</td>\n",
       "      <td>0.3085</td>\n",
       "      <td>...</td>\n",
       "      <td>0.0061</td>\n",
       "      <td>0.0093</td>\n",
       "      <td>0.0135</td>\n",
       "      <td>0.0063</td>\n",
       "      <td>0.0063</td>\n",
       "      <td>0.0034</td>\n",
       "      <td>0.0032</td>\n",
       "      <td>0.0062</td>\n",
       "      <td>0.0067</td>\n",
       "      <td>M</td>\n",
       "    </tr>\n",
       "    <tr>\n",
       "      <th>0.0522</th>\n",
       "      <td>0.0437</td>\n",
       "      <td>0.0180</td>\n",
       "      <td>0.0292</td>\n",
       "      <td>0.0351</td>\n",
       "      <td>0.1171</td>\n",
       "      <td>0.1257</td>\n",
       "      <td>0.1178</td>\n",
       "      <td>0.1258</td>\n",
       "      <td>0.2529</td>\n",
       "      <td>0.2716</td>\n",
       "      <td>...</td>\n",
       "      <td>0.0160</td>\n",
       "      <td>0.0029</td>\n",
       "      <td>0.0051</td>\n",
       "      <td>0.0062</td>\n",
       "      <td>0.0089</td>\n",
       "      <td>0.0140</td>\n",
       "      <td>0.0138</td>\n",
       "      <td>0.0077</td>\n",
       "      <td>0.0031</td>\n",
       "      <td>M</td>\n",
       "    </tr>\n",
       "    <tr>\n",
       "      <th>0.0303</th>\n",
       "      <td>0.0353</td>\n",
       "      <td>0.0490</td>\n",
       "      <td>0.0608</td>\n",
       "      <td>0.0167</td>\n",
       "      <td>0.1354</td>\n",
       "      <td>0.1465</td>\n",
       "      <td>0.1123</td>\n",
       "      <td>0.1945</td>\n",
       "      <td>0.2354</td>\n",
       "      <td>0.2898</td>\n",
       "      <td>...</td>\n",
       "      <td>0.0086</td>\n",
       "      <td>0.0046</td>\n",
       "      <td>0.0126</td>\n",
       "      <td>0.0036</td>\n",
       "      <td>0.0035</td>\n",
       "      <td>0.0034</td>\n",
       "      <td>0.0079</td>\n",
       "      <td>0.0036</td>\n",
       "      <td>0.0048</td>\n",
       "      <td>M</td>\n",
       "    </tr>\n",
       "    <tr>\n",
       "      <th>0.0260</th>\n",
       "      <td>0.0363</td>\n",
       "      <td>0.0136</td>\n",
       "      <td>0.0272</td>\n",
       "      <td>0.0214</td>\n",
       "      <td>0.0338</td>\n",
       "      <td>0.0655</td>\n",
       "      <td>0.1400</td>\n",
       "      <td>0.1843</td>\n",
       "      <td>0.2354</td>\n",
       "      <td>0.2720</td>\n",
       "      <td>...</td>\n",
       "      <td>0.0146</td>\n",
       "      <td>0.0129</td>\n",
       "      <td>0.0047</td>\n",
       "      <td>0.0039</td>\n",
       "      <td>0.0061</td>\n",
       "      <td>0.0040</td>\n",
       "      <td>0.0036</td>\n",
       "      <td>0.0061</td>\n",
       "      <td>0.0115</td>\n",
       "      <td>M</td>\n",
       "    </tr>\n",
       "  </tbody>\n",
       "</table>\n",
       "<p>208 rows × 60 columns</p>\n",
       "</div>"
      ],
      "text/plain": [
       "        freq_1  freq_2  freq_3  freq_4  freq_5  freq_6  freq_7  freq_8  \\\n",
       "0.0200  0.0371  0.0428  0.0207  0.0954  0.0986  0.1539  0.1601  0.3109   \n",
       "0.0453  0.0523  0.0843  0.0689  0.1183  0.2583  0.2156  0.3481  0.3337   \n",
       "0.0262  0.0582  0.1099  0.1083  0.0974  0.2280  0.2431  0.3771  0.5598   \n",
       "0.0100  0.0171  0.0623  0.0205  0.0205  0.0368  0.1098  0.1276  0.0598   \n",
       "0.0762  0.0666  0.0481  0.0394  0.0590  0.0649  0.1209  0.2467  0.3564   \n",
       "...        ...     ...     ...     ...     ...     ...     ...     ...   \n",
       "0.0187  0.0346  0.0168  0.0177  0.0393  0.1630  0.2028  0.1694  0.2328   \n",
       "0.0323  0.0101  0.0298  0.0564  0.0760  0.0958  0.0990  0.1018  0.1030   \n",
       "0.0522  0.0437  0.0180  0.0292  0.0351  0.1171  0.1257  0.1178  0.1258   \n",
       "0.0303  0.0353  0.0490  0.0608  0.0167  0.1354  0.1465  0.1123  0.1945   \n",
       "0.0260  0.0363  0.0136  0.0272  0.0214  0.0338  0.0655  0.1400  0.1843   \n",
       "\n",
       "        freq_9  freq_10  ...  freq_51  freq_52  freq_53  freq_54  freq_55  \\\n",
       "0.0200  0.2111   0.1609  ...   0.0027   0.0065   0.0159   0.0072   0.0167   \n",
       "0.0453  0.2872   0.4918  ...   0.0084   0.0089   0.0048   0.0094   0.0191   \n",
       "0.0262  0.6194   0.6333  ...   0.0232   0.0166   0.0095   0.0180   0.0244   \n",
       "0.0100  0.1264   0.0881  ...   0.0121   0.0036   0.0150   0.0085   0.0073   \n",
       "0.0762  0.4459   0.4152  ...   0.0031   0.0054   0.0105   0.0110   0.0015   \n",
       "...        ...      ...  ...      ...      ...      ...      ...      ...   \n",
       "0.0187  0.2684   0.3108  ...   0.0116   0.0098   0.0199   0.0033   0.0101   \n",
       "0.0323  0.2154   0.3085  ...   0.0061   0.0093   0.0135   0.0063   0.0063   \n",
       "0.0522  0.2529   0.2716  ...   0.0160   0.0029   0.0051   0.0062   0.0089   \n",
       "0.0303  0.2354   0.2898  ...   0.0086   0.0046   0.0126   0.0036   0.0035   \n",
       "0.0260  0.2354   0.2720  ...   0.0146   0.0129   0.0047   0.0039   0.0061   \n",
       "\n",
       "        freq_56  freq_57  freq_58  freq_59  Label  \n",
       "0.0200   0.0180   0.0084   0.0090   0.0032      R  \n",
       "0.0453   0.0140   0.0049   0.0052   0.0044      R  \n",
       "0.0262   0.0316   0.0164   0.0095   0.0078      R  \n",
       "0.0100   0.0050   0.0044   0.0040   0.0117      R  \n",
       "0.0762   0.0072   0.0048   0.0107   0.0094      R  \n",
       "...         ...      ...      ...      ...    ...  \n",
       "0.0187   0.0065   0.0115   0.0193   0.0157      M  \n",
       "0.0323   0.0034   0.0032   0.0062   0.0067      M  \n",
       "0.0522   0.0140   0.0138   0.0077   0.0031      M  \n",
       "0.0303   0.0034   0.0079   0.0036   0.0048      M  \n",
       "0.0260   0.0040   0.0036   0.0061   0.0115      M  \n",
       "\n",
       "[208 rows x 60 columns]"
      ]
     },
     "execution_count": 17,
     "metadata": {},
     "output_type": "execute_result"
    }
   ],
   "source": [
    "url = \"http://archive.ics.uci.edu/ml/machine-learning-databases/undocumented/connectionist-bench/sonar/sonar.all-data\"\n",
    "column_names = ['freq_' + str(i) for i in range(1, 60)] + ['Label']\n",
    "df = pd.read_csv(url, header=None, names=column_names)\n",
    "df"
   ]
  },
  {
   "cell_type": "code",
   "execution_count": 18,
   "id": "6601dbcd",
   "metadata": {},
   "outputs": [
    {
     "name": "stdout",
     "output_type": "stream",
     "text": [
      "        freq_1  freq_2  freq_3  freq_4  freq_5  freq_6  freq_7  freq_8  \\\n",
      "0.0200  0.0371  0.0428  0.0207  0.0954  0.0986  0.1539  0.1601  0.3109   \n",
      "0.0453  0.0523  0.0843  0.0689  0.1183  0.2583  0.2156  0.3481  0.3337   \n",
      "0.0262  0.0582  0.1099  0.1083  0.0974  0.2280  0.2431  0.3771  0.5598   \n",
      "0.0100  0.0171  0.0623  0.0205  0.0205  0.0368  0.1098  0.1276  0.0598   \n",
      "0.0762  0.0666  0.0481  0.0394  0.0590  0.0649  0.1209  0.2467  0.3564   \n",
      "\n",
      "        freq_9  freq_10  ...  freq_51  freq_52  freq_53  freq_54  freq_55  \\\n",
      "0.0200  0.2111   0.1609  ...   0.0027   0.0065   0.0159   0.0072   0.0167   \n",
      "0.0453  0.2872   0.4918  ...   0.0084   0.0089   0.0048   0.0094   0.0191   \n",
      "0.0262  0.6194   0.6333  ...   0.0232   0.0166   0.0095   0.0180   0.0244   \n",
      "0.0100  0.1264   0.0881  ...   0.0121   0.0036   0.0150   0.0085   0.0073   \n",
      "0.0762  0.4459   0.4152  ...   0.0031   0.0054   0.0105   0.0110   0.0015   \n",
      "\n",
      "        freq_56  freq_57  freq_58  freq_59  Label  \n",
      "0.0200   0.0180   0.0084   0.0090   0.0032      1  \n",
      "0.0453   0.0140   0.0049   0.0052   0.0044      1  \n",
      "0.0262   0.0316   0.0164   0.0095   0.0078      1  \n",
      "0.0100   0.0050   0.0044   0.0040   0.0117      1  \n",
      "0.0762   0.0072   0.0048   0.0107   0.0094      1  \n",
      "\n",
      "[5 rows x 60 columns]\n"
     ]
    }
   ],
   "source": [
    "#df.rename(columns={Label: 'Target'}, inplace=True)\n",
    "df['Label'] = df['Label'].map({'M': 0, 'R': 1})\n",
    "print(df.head())\n"
   ]
  },
  {
   "cell_type": "code",
   "execution_count": 19,
   "id": "ddd94e00",
   "metadata": {},
   "outputs": [],
   "source": [
    "X = df.drop('Label', axis=1)\n",
    "y = df['Label']\n",
    "X_train, X_val, y_train, y_val = train_test_split(X, y, test_size=0.2, random_state=42)"
   ]
  },
  {
   "cell_type": "code",
   "execution_count": 20,
   "id": "854b433c",
   "metadata": {},
   "outputs": [],
   "source": [
    "param_grid = {\n",
    "    'n_estimators': [50, 100, 200],\n",
    "    'max_depth': [None, 10, 20, 30],\n",
    "}\n",
    "\n",
    "cv = StratifiedKFold(n_splits=5, shuffle=True, random_state=42)\n",
    "rf_classifier = RandomForestClassifier(random_state=42)\n"
   ]
  },
  {
   "cell_type": "code",
   "execution_count": 21,
   "id": "405ae25d",
   "metadata": {},
   "outputs": [],
   "source": [
    "grid_search = GridSearchCV(\n",
    "    estimator=rf_classifier,\n",
    "    param_grid=param_grid,\n",
    "    scoring='accuracy',  \n",
    "    cv=cv,\n",
    "    n_jobs=-1  # Use all available CPU cores\n",
    ")"
   ]
  },
  {
   "cell_type": "code",
   "execution_count": 22,
   "id": "f40c117d",
   "metadata": {},
   "outputs": [
    {
     "name": "stdout",
     "output_type": "stream",
     "text": [
      "Best Parameters: {'max_depth': None, 'n_estimators': 100}\n",
      "Best Estimator: RandomForestClassifier(random_state=42)\n",
      "Validation Accuracy: 0.8333333333333334\n"
     ]
    }
   ],
   "source": [
    "y_train = y_train.fillna(0)\n",
    "\n",
    "grid_search.fit(X_train, y_train)\n",
    "\n",
    "best_params = grid_search.best_params_\n",
    "best_estimator = grid_search.best_estimator_\n",
    "\n",
    "print(\"Best Parameters:\", best_params)\n",
    "print(\"Best Estimator:\", best_estimator)\n",
    "\n",
    "validation_accuracy = best_estimator.score(X_val, y_val)\n",
    "print(\"Validation Accuracy:\", validation_accuracy)"
   ]
  },
  {
   "cell_type": "markdown",
   "id": "70dfdbbb",
   "metadata": {},
   "source": [
    "# b"
   ]
  },
  {
   "cell_type": "code",
   "execution_count": 23,
   "id": "f68aac58",
   "metadata": {},
   "outputs": [
    {
     "data": {
      "image/png": "[encoded data removed]",
      "text/plain": [
       "<Figure size 1000x600 with 2 Axes>"
      ]
     },
     "metadata": {},
     "output_type": "display_data"
    }
   ],
   "source": [
    "import seaborn as sns\n",
    "import matplotlib.pyplot as plt\n",
    "\n",
    "# Get the grid search results as a DataFrame\n",
    "results_df = pd.DataFrame(grid_search.cv_results_)\n",
    "\n",
    "# Extract the mean test scores and reshape them into a grid\n",
    "mean_test_scores = results_df['mean_test_score'].values.reshape(len(param_grid['n_estimators']), len(param_grid['max_depth']))\n",
    "\n",
    "# Create a heatmap\n",
    "plt.figure(figsize=(10, 6))\n",
    "sns.heatmap(mean_test_scores, annot=True, fmt=\".3f\", cmap=\"YlGnBu\",\n",
    "            xticklabels=param_grid['max_depth'], yticklabels=param_grid['n_estimators'])\n",
    "plt.xlabel('Max Depth')\n",
    "plt.ylabel('N Estimators')\n",
    "plt.title('Grid Search Mean Test Scores')\n",
    "plt.show()"
   ]
  },
  {
   "cell_type": "markdown",
   "id": "905c40df",
   "metadata": {},
   "source": [
    "# c"
   ]
  },
  {
   "cell_type": "code",
   "execution_count": 24,
   "id": "c7c5ebc4",
   "metadata": {
    "scrolled": true
   },
   "outputs": [
    {
     "data": {
      "image/png": "[encoded data removed]",
      "text/plain": [
       "<Figure size 800x600 with 1 Axes>"
      ]
     },
     "metadata": {},
     "output_type": "display_data"
    }
   ],
   "source": [
    "from sklearn.metrics import roc_curve, roc_auc_score\n",
    "import matplotlib.pyplot as plt\n",
    "\n",
    "best_estimator.fit(X_train, y_train)\n",
    "\n",
    "y_pred_prob = best_estimator.predict_proba(X_val)[:, 1]\n",
    "\n",
    "fpr, tpr, thresholds = roc_curve(y_val, y_pred_prob)\n",
    "\n",
    "auc = roc_auc_score(y_val, y_pred_prob)\n",
    "\n",
    "# Plot the ROC curve\n",
    "plt.figure(figsize=(8, 6))\n",
    "plt.plot(fpr, tpr, linewidth=2, label=f'ROC Curve (AUC = {auc:.2f})')\n",
    "plt.plot([0, 1], [0, 1], 'k--', linewidth=2)  # Random Classifier\n",
    "plt.xlim([0.0, 1.0])\n",
    "plt.ylim([0.0, 1.05])\n",
    "plt.xlabel('False Positive Rate')\n",
    "plt.ylabel('True Positive Rate')\n",
    "plt.title('ROC Curve')\n",
    "plt.legend(loc=\"lower right\")\n",
    "plt.show()\n"
   ]
  },
  {
   "cell_type": "markdown",
   "id": "6caafc55",
   "metadata": {},
   "source": [
    "# Task 3"
   ]
  },
  {
   "cell_type": "code",
   "execution_count": 25,
   "id": "617e0c68",
   "metadata": {},
   "outputs": [],
   "source": [
    "from sklearn.datasets import fetch_20newsgroups\n",
    "\n",
    "train_data = fetch_20newsgroups(subset='train', remove=('headers', 'footers', 'quotes'))\n",
    "\n",
    "test_data = fetch_20newsgroups(subset='test', remove=('headers', 'footers', 'quotes'))\n",
    "\n",
    "concatenated_data = {\n",
    "    'data': list(train_data.data) + list(test_data.data),\n",
    "    'target': list(train_data.target) + list(test_data.target)\n",
    "}\n",
    "\n",
    "concatenated_texts = concatenated_data['data']\n",
    "concatenated_labels = concatenated_data['target']\n"
   ]
  },
  {
   "cell_type": "code",
   "execution_count": 26,
   "id": "136bea9c",
   "metadata": {},
   "outputs": [
    {
     "name": "stderr",
     "output_type": "stream",
     "text": [
      "C:\\ProgramData\\anaconda3\\Lib\\site-packages\\sklearn\\cluster\\_kmeans.py:1412: FutureWarning: The default value of `n_init` will change from 10 to 'auto' in 1.4. Set the value of `n_init` explicitly to suppress the warning\n",
      "  super()._check_params_vs_input(X, default_n_init=10)\n"
     ]
    },
    {
     "name": "stdout",
     "output_type": "stream",
     "text": [
      "       True Class  Cluster\n",
      "0               7       13\n",
      "1               4        9\n",
      "2               4        3\n",
      "3               1        1\n",
      "4              14       18\n",
      "...           ...      ...\n",
      "18841          14       10\n",
      "18842           4        7\n",
      "18843           9       15\n",
      "18844           6        6\n",
      "18845          15        8\n",
      "\n",
      "[18846 rows x 2 columns]\n"
     ]
    }
   ],
   "source": [
    "from sklearn.feature_extraction.text import TfidfVectorizer\n",
    "from sklearn.cluster import KMeans\n",
    "from sklearn.datasets import fetch_20newsgroups\n",
    "\n",
    "\n",
    "# Create a TF-IDF vectorizer to convert text data into numerical features\n",
    "tfidf_vectorizer = TfidfVectorizer(max_features=1000)\n",
    "tfidf_matrix = tfidf_vectorizer.fit_transform(concatenated_texts)\n",
    "\n",
    "# Apply K-means clustering\n",
    "num_clusters = 20\n",
    "kmeans = KMeans(n_clusters=num_clusters, random_state=0)\n",
    "cluster_labels = kmeans.fit_predict(tfidf_matrix)\n",
    "\n",
    "# Print true class vs cluster distribution\n",
    "df = pd.DataFrame({'True Class': concatenated_labels , 'Cluster': cluster_labels})\n",
    "print(df)\n"
   ]
  },
  {
   "cell_type": "code",
   "execution_count": 27,
   "id": "a2577f1a",
   "metadata": {},
   "outputs": [
    {
     "data": {
      "image/png": "[encoded data removed]",
      "text/plain": [
       "<Figure size 1000x600 with 1 Axes>"
      ]
     },
     "metadata": {},
     "output_type": "display_data"
    }
   ],
   "source": [
    "import matplotlib.pyplot as plt\n",
    "from sklearn.decomposition import PCA\n",
    "\n",
    "# Reduce the dimensionality of the data using PCA\n",
    "pca = PCA(n_components=2)\n",
    "reduced_data = pca.fit_transform(tfidf_matrix.toarray())\n",
    "\n",
    "plt.figure(figsize=(10, 6))\n",
    "\n",
    "# Iterate through each true class (0 to 19) and plot data points in different colors\n",
    "for true_class in range(20):\n",
    "    cluster_indices = df[df['True Class'] == true_class]['Cluster']\n",
    "    x = reduced_data[cluster_indices]\n",
    "    plt.scatter(x[:, 0], x[:, 1], label=f'True Class {true_class}')\n",
    "\n",
    "plt.title(\"True Class vs. Cluster Distribution\")\n",
    "plt.xlabel(\"PCA Component 1\")\n",
    "plt.ylabel(\"PCA Component 2\")\n",
    "plt.legend(loc='upper right')\n",
    "plt.show()\n"
   ]
  },
  {
   "cell_type": "code",
   "execution_count": 29,
   "id": "412658e5",
   "metadata": {},
   "outputs": [
    {
     "name": "stdout",
     "output_type": "stream",
     "text": [
      "True Class vs Cluster Distribution:\n",
      "[[  7   0  83  47  83   6   0   9  97  10  82  42   0  42   0  85   0   0\n",
      "   45 161]\n",
      " [ 19   8  49  37 130 189   2  31  73  90  35   9  43  18   2  83  38   5\n",
      "  104   8]\n",
      " [ 15   5  53  17 123  63   2  31  53  35  26   2 327  17  19  66  57   5\n",
      "   61   8]\n",
      " [ 12  14  58  13  70  97   9  19  61  54  23   1  44  17 160  74 130   1\n",
      "  113  12]\n",
      " [ 11  14  53  12 121 106  11  11  73  47  33  10   3  24 100 113  48   3\n",
      "  162   8]\n",
      " [ 18   2  52  35  99 170   1  28  96  62  35   0  65  14   1 134   8   6\n",
      "  143  19]\n",
      " [ 12  16  24   5 121  13 400  19  31  65  20   6  10   8  49  40  31  69\n",
      "   30   6]\n",
      " [ 20   3  76  65 148  51  12  13  72  29  77  24   1  76   6 128   0   3\n",
      "  153  33]\n",
      " [ 18   2 132  73 155  30  14  11  54  17  79  34   0  86  13 130   0   0\n",
      "  126  22]\n",
      " [  9   2  42  59 171  28   0  18  43  31  31 214   0  69   0  79   0  10\n",
      "  153  35]\n",
      " [  8   4  53 103 137  15   0  19  24  21  31 148   0  94   0  89   0  51\n",
      "  182  20]\n",
      " [ 16  52  55  86 121  23   0  16  75  12  57  23   5  22   0 159   0   3\n",
      "  129 137]\n",
      " [ 16  41  75  58 119 106   7  20  82  41  65   6   4  39  11 118  10   2\n",
      "  136  28]\n",
      " [ 23   2  37  97  86  56   3  13 154  27  75  31   0  72   0 109   0   1\n",
      "   72 132]\n",
      " [ 24   3  55 135 122  24   1  18  89  19  57  18   1  79   0 112   0   5\n",
      "  152  73]\n",
      " [  9   1  33 132  75  20   0   4  57  18  66  64   1  53   0  81   0   0\n",
      "   63 320]\n",
      " [  6   5  54 130 102   4   0   9  42   4  82  34   0  76   0 126   1   3\n",
      "  118 114]\n",
      " [  9   1  58 266 100   3   0  12  52   5  93  32   0  33   0  67   1   3\n",
      "   81 124]\n",
      " [  4   0  65 100  80   7   1   4  50   5  69  27   1  48   1  87   0   2\n",
      "   80 144]\n",
      " [  8   0  53  60  87   2   1   2  53   9  69  34   0  33   0  40   0   0\n",
      "   63 114]]\n"
     ]
    },
    {
     "data": {
      "image/png": "[encoded data removed]",
      "text/plain": [
       "<Figure size 640x480 with 2 Axes>"
      ]
     },
     "metadata": {},
     "output_type": "display_data"
    }
   ],
   "source": [
    "# Map the true class labels to cluster labels\n",
    "from sklearn.metrics import confusion_matrix\n",
    "\n",
    "cluster_labels = kmeans.labels_\n",
    "\n",
    "confusion = confusion_matrix(concatenated_labels, cluster_labels)\n",
    "\n",
    "print(\"True Class vs Cluster Distribution:\")\n",
    "print(confusion)\n",
    "\n",
    "plt.imshow(confusion, interpolation='nearest', cmap=plt.cm.Blues)\n",
    "plt.title(\"Confusion Matrix\")\n",
    "plt.colorbar()\n",
    "plt.xlabel(\"Cluster Label\")\n",
    "plt.ylabel(\"True Class Label\")\n",
    "plt.show()\n",
    "\n"
   ]
  },
  {
   "cell_type": "code",
   "execution_count": null,
   "id": "09a2d7fe",
   "metadata": {},
   "outputs": [],
   "source": []
  }
 ],
 "metadata": {
  "kernelspec": {
   "display_name": "Python 3 (ipykernel)",
   "language": "python",
   "name": "python3"
  },
  "language_info": {
   "codemirror_mode": {
    "name": "ipython",
    "version": 3
   },
   "file_extension": ".py",
   "mimetype": "text/x-python",
   "name": "python",
   "nbconvert_exporter": "python",
   "pygments_lexer": "ipython3",
   "version": "3.11.4"
  }
 },
 "nbformat": 4,
 "nbformat_minor": 5
}
