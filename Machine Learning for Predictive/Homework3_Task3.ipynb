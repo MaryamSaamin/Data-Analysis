{
 "cells": [
  {
   "cell_type": "code",
   "execution_count": 1,
   "metadata": {
    "id": "tdNglA2LRKUq"
   },
   "outputs": [],
   "source": [
    "# Task 3"
   ]
  },
  {
   "cell_type": "code",
   "execution_count": 2,
   "metadata": {
    "id": "4SgEEiVDxPlT"
   },
   "outputs": [],
   "source": [
    "# Deep Learning Model"
   ]
  },
  {
   "cell_type": "code",
   "execution_count": 3,
   "metadata": {
    "id": "Se8tcL74v76E"
   },
   "outputs": [],
   "source": [
    "#Download of kaggle.json from google drive"
   ]
  },
  {
   "cell_type": "code",
   "execution_count": 4,
   "metadata": {
    "colab": {
     "base_uri": "https://localhost:8080/"
    },
    "id": "BYV6vjatUDeC",
    "outputId": "e3b96d7b-f9ed-4ae4-d952-9b4496693d7c"
   },
   "outputs": [
    {
     "name": "stdout",
     "output_type": "stream",
     "text": [
      "/usr/local/lib/python3.10/dist-packages/gdown/cli.py:121: FutureWarning: Option `--id` was deprecated in version 4.3.1 and will be removed in 5.0. You don't need to pass it anymore to use a file ID.\n",
      "  warnings.warn(\n",
      "Downloading...\n",
      "From: https://drive.google.com/uc?id=18_e1gBcQxf_S-FnhxIc3b-D8mVNFZ9WV\n",
      "To: /content/kaggle.json\n",
      "100% 65.0/65.0 [00:00<00:00, 203kB/s]\n"
     ]
    }
   ],
   "source": [
    "! gdown --id 18_e1gBcQxf_S-FnhxIc3b-D8mVNFZ9WV"
   ]
  },
  {
   "cell_type": "code",
   "execution_count": 5,
   "metadata": {
    "id": "b-BWZsOfxpxU"
   },
   "outputs": [],
   "source": [
    "# If I need"
   ]
  },
  {
   "cell_type": "code",
   "execution_count": 22,
   "metadata": {
    "colab": {
     "base_uri": "https://localhost:8080/"
    },
    "id": "eImuZIIEqgYV",
    "outputId": "3d87e042-090d-4762-881d-416436dcb832"
   },
   "outputs": [
    {
     "name": "stdout",
     "output_type": "stream",
     "text": [
      "Requirement already satisfied: mxnet==1.5.1 in /usr/local/lib/python3.10/dist-packages (1.5.1)\n",
      "Requirement already satisfied: numpy<2.0.0,>1.16.0 in /usr/local/lib/python3.10/dist-packages (from mxnet==1.5.1) (1.23.5)\n",
      "Requirement already satisfied: requests<3,>=2.20.0 in /usr/local/lib/python3.10/dist-packages (from mxnet==1.5.1) (2.31.0)\n",
      "Requirement already satisfied: graphviz<0.9.0,>=0.8.1 in /usr/local/lib/python3.10/dist-packages (from mxnet==1.5.1) (0.8.4)\n",
      "Requirement already satisfied: charset-normalizer<4,>=2 in /usr/local/lib/python3.10/dist-packages (from requests<3,>=2.20.0->mxnet==1.5.1) (3.3.2)\n",
      "Requirement already satisfied: idna<4,>=2.5 in /usr/local/lib/python3.10/dist-packages (from requests<3,>=2.20.0->mxnet==1.5.1) (3.4)\n",
      "Requirement already satisfied: urllib3<3,>=1.21.1 in /usr/local/lib/python3.10/dist-packages (from requests<3,>=2.20.0->mxnet==1.5.1) (2.0.7)\n",
      "Requirement already satisfied: certifi>=2017.4.17 in /usr/local/lib/python3.10/dist-packages (from requests<3,>=2.20.0->mxnet==1.5.1) (2023.7.22)\n"
     ]
    }
   ],
   "source": [
    "pip install mxnet==1.5.1\n"
   ]
  },
  {
   "cell_type": "code",
   "execution_count": null,
   "metadata": {
    "id": "3JIZ3Ovlwitc"
   },
   "outputs": [],
   "source": [
    "# downlaod  CSV files and test and train pictures"
   ]
  },
  {
   "cell_type": "code",
   "execution_count": 8,
   "metadata": {
    "colab": {
     "base_uri": "https://localhost:8080/"
    },
    "id": "5R_WGwVP8rWD",
    "outputId": "49cf224a-29fb-4abc-a66c-4da3d7a07419"
   },
   "outputs": [
    {
     "name": "stdout",
     "output_type": "stream",
     "text": [
      "Requirement already satisfied: kaggle in /usr/local/lib/python3.10/dist-packages (1.5.16)\n",
      "Requirement already satisfied: six>=1.10 in /usr/local/lib/python3.10/dist-packages (from kaggle) (1.16.0)\n",
      "Requirement already satisfied: certifi in /usr/local/lib/python3.10/dist-packages (from kaggle) (2023.7.22)\n",
      "Requirement already satisfied: python-dateutil in /usr/local/lib/python3.10/dist-packages (from kaggle) (2.8.2)\n",
      "Requirement already satisfied: requests in /usr/local/lib/python3.10/dist-packages (from kaggle) (2.31.0)\n",
      "Requirement already satisfied: tqdm in /usr/local/lib/python3.10/dist-packages (from kaggle) (4.66.1)\n",
      "Requirement already satisfied: python-slugify in /usr/local/lib/python3.10/dist-packages (from kaggle) (8.0.1)\n",
      "Requirement already satisfied: urllib3 in /usr/local/lib/python3.10/dist-packages (from kaggle) (2.0.7)\n",
      "Requirement already satisfied: bleach in /usr/local/lib/python3.10/dist-packages (from kaggle) (6.1.0)\n",
      "Requirement already satisfied: webencodings in /usr/local/lib/python3.10/dist-packages (from bleach->kaggle) (0.5.1)\n",
      "Requirement already satisfied: text-unidecode>=1.3 in /usr/local/lib/python3.10/dist-packages (from python-slugify->kaggle) (1.3)\n",
      "Requirement already satisfied: charset-normalizer<4,>=2 in /usr/local/lib/python3.10/dist-packages (from requests->kaggle) (3.3.2)\n",
      "Requirement already satisfied: idna<4,>=2.5 in /usr/local/lib/python3.10/dist-packages (from requests->kaggle) (3.4)\n"
     ]
    }
   ],
   "source": [
    "pip install kaggle"
   ]
  },
  {
   "cell_type": "code",
   "execution_count": 8,
   "metadata": {
    "id": "d7qtPIcyxQKz"
   },
   "outputs": [],
   "source": []
  },
  {
   "cell_type": "code",
   "execution_count": 11,
   "metadata": {
    "id": "jIqrqS7v9EeQ"
   },
   "outputs": [],
   "source": [
    "import os\n",
    "from kaggle.api.kaggle_api_extended import KaggleApi\n",
    "\n",
    "# Set your Kaggle API credentials\n",
    "os.environ[\"KAGGLE_USERNAME\"] = \"maryamsaa\"\n",
    "os.environ[\"KAGGLE_KEY\"] = \"b73d47e88e6150c7dbb3ae61c96b1024\"\n",
    "\n",
    "# Specify the competition name\n",
    "competition_name = \"dogs-vs-cats-redux-kernels-edition\"\n",
    "\n",
    "# Set the working directory to where you want to download the files\n",
    "#os.chdir(\"my-work\")\n",
    "\n",
    "# Create a Kaggle API object\n",
    "api = KaggleApi()\n",
    "api.authenticate()\n",
    "\n"
   ]
  },
  {
   "cell_type": "code",
   "execution_count": 12,
   "metadata": {
    "colab": {
     "base_uri": "https://localhost:8080/"
    },
    "id": "78s96eZiX2Od",
    "outputId": "2d039fdb-b592-4a88-bc9a-88013ca214ed"
   },
   "outputs": [
    {
     "name": "stdout",
     "output_type": "stream",
     "text": [
      "Downloading coronahack-chest-xraydataset.zip to /content\n",
      " 99% 1.18G/1.19G [00:11<00:00, 148MB/s]\n",
      "100% 1.19G/1.19G [00:11<00:00, 114MB/s]\n"
     ]
    }
   ],
   "source": [
    "!kaggle datasets download -d praveengovi/coronahack-chest-xraydataset\n"
   ]
  },
  {
   "cell_type": "code",
   "execution_count": 13,
   "metadata": {
    "id": "p1iDbHFIYByt"
   },
   "outputs": [],
   "source": [
    "import zipfile\n",
    "\n",
    "with zipfile.ZipFile('coronahack-chest-xraydataset.zip', 'r') as zip_ref:\n",
    "    zip_ref.extractall('.')\n"
   ]
  },
  {
   "cell_type": "code",
   "execution_count": 14,
   "metadata": {
    "id": "7doMkB5UodjY"
   },
   "outputs": [],
   "source": [
    "import mxnet as mx\n",
    "from mxnet import autograd, gluon, init, nd\n",
    "from mxnet.gluon import nn\n",
    "import os\n",
    "import cv2\n",
    "import pandas as pd\n",
    "from sklearn.model_selection import train_test_split\n"
   ]
  },
  {
   "cell_type": "code",
   "execution_count": null,
   "metadata": {
    "id": "A92XWjhgwtfM"
   },
   "outputs": [],
   "source": [
    "# Train and Test df and Label"
   ]
  },
  {
   "cell_type": "code",
   "execution_count": 15,
   "metadata": {
    "id": "0xIwEoq4oj6F"
   },
   "outputs": [],
   "source": [
    "# Reading through the metadata\n",
    "summary = pd.read_csv('Chest_xray_Corona_dataset_Summary.csv')\n",
    "df = pd.read_csv('Chest_xray_Corona_Metadata.csv')\n",
    "\n",
    "replace_dict = {'Pnemonia': 1, 'Normal': 0}\n",
    "df['Label'] = df['Label'].replace(replace_dict)\n",
    "\n",
    "train_df = df[df.Dataset_type == 'TRAIN']\n",
    "test_df = df[df.Dataset_type == 'TEST']\n",
    "\n",
    "# Defining the path to Train and Test directories\n",
    "training_data_path = '/content/Coronahack-Chest-XRay-Dataset/Coronahack-Chest-XRay-Dataset/train'\n",
    "testing_data_path = '/content/Coronahack-Chest-XRay-Dataset/Coronahack-Chest-XRay-Dataset/test'\n",
    "\n"
   ]
  },
  {
   "cell_type": "code",
   "execution_count": null,
   "metadata": {
    "id": "gzZljqRDowRH"
   },
   "outputs": [],
   "source": [
    "# Function to read and preprocess images\n",
    "def read_image(file_path):\n",
    "    img = cv2.imread(file_path)\n",
    "    img = cv2.cvtColor(img, cv2.COLOR_BGR2RGB)\n",
    "    img = cv2.resize(img, (224, 224))\n",
    "    img = img.transpose((2, 0, 1))  # Transpose to (channels, height, width)\n",
    "    img = img / 255.0\n",
    "    return nd.array(img)\n"
   ]
  },
  {
   "cell_type": "code",
   "execution_count": null,
   "metadata": {
    "id": "7c4FsLGco4Ef"
   },
   "outputs": [],
   "source": [
    "# Loading and preprocessing the data\n",
    "train_data = [(read_image(os.path.join(training_data_path, img)), label) for img, label in zip(train_df['X_ray_image_name'], train_df['Label'])]\n",
    "test_data = [(read_image(os.path.join(testing_data_path, img)), label) for img, label in zip(test_df['X_ray_image_name'], test_df['Label'])]\n",
    "\n",
    "# Splitting the data into training and validation sets\n",
    "train_data, val_data = train_test_split(train_data, test_size=0.2, random_state=42)\n",
    "\n",
    "# Creating data loaders\n",
    "batch_size = 32\n",
    "train_loader = gluon.data.DataLoader(train_data, batch_size=batch_size, shuffle=True)\n",
    "val_loader = gluon.data.DataLoader(val_data, batch_size=batch_size, shuffle=False)\n",
    "test_loader = gluon.data.DataLoader(test_data, batch_size=batch_size, shuffle=False)\n"
   ]
  },
  {
   "cell_type": "code",
   "execution_count": null,
   "metadata": {
    "colab": {
     "base_uri": "https://localhost:8080/"
    },
    "id": "gBbRFf12NUu4",
    "outputId": "be929941-d6c6-4cdd-8b44-d77bb026b274"
   },
   "outputs": [
    {
     "name": "stdout",
     "output_type": "stream",
     "text": [
      "Training Data Shape: (3, 224, 224)\n",
      "Validation Data Shape: (3, 224, 224)\n",
      "Test Data Shape: (3, 224, 224)\n"
     ]
    }
   ],
   "source": [
    "# Get the shape of the first batch from the training loader\n",
    "for data, label in train_loader:\n",
    "    input_shape = data.shape[1:]\n",
    "    break\n",
    "\n",
    "print(\"Training Data Shape:\", input_shape)\n",
    "\n",
    "# Get the shape of the first batch from the validation loader\n",
    "for data, label in val_loader:\n",
    "    input_shape = data.shape[1:]\n",
    "    break\n",
    "\n",
    "print(\"Validation Data Shape:\", input_shape)\n",
    "\n",
    "# Get the shape of the first batch from the test loader\n",
    "for data, label in test_loader:\n",
    "    input_shape = data.shape[1:]\n",
    "    break\n",
    "\n",
    "print(\"Test Data Shape:\", input_shape)\n"
   ]
  },
  {
   "cell_type": "code",
   "execution_count": null,
   "metadata": {
    "colab": {
     "base_uri": "https://localhost:8080/"
    },
    "id": "6V9a1ObNpIa-",
    "outputId": "5d1f39bb-cb29-4b01-abaf-0b8de18bde27"
   },
   "outputs": [
    {
     "name": "stdout",
     "output_type": "stream",
     "text": [
      "--------------------------------------------------------------------------------\n",
      "        Layer (type)                                Output Shape         Param #\n",
      "================================================================================\n",
      "               Input                           (32, 3, 224, 224)               0\n",
      "        Activation-1                     <Symbol conv5_relu_fwd>               0\n",
      "        Activation-2                          (32, 32, 222, 222)               0\n",
      "            Conv2D-3                          (32, 32, 222, 222)             896\n",
      "         MaxPool2D-4                          (32, 32, 111, 111)               0\n",
      "           Flatten-5                                (32, 394272)               0\n",
      "        Activation-6                    <Symbol dense6_relu_fwd>               0\n",
      "        Activation-7                                    (32, 64)               0\n",
      "             Dense-8                                    (32, 64)        25233472\n",
      "             Dense-9                                     (32, 1)              65\n",
      "      SimplestCNN-10                                     (32, 1)               0\n",
      "================================================================================\n",
      "Parameters in forward computation graph, duplicate included\n",
      "   Total params: 25234433\n",
      "   Trainable params: 25234433\n",
      "   Non-trainable params: 0\n",
      "Shared params in forward computation graph: 0\n",
      "Unique parameters in model: 25234433\n",
      "--------------------------------------------------------------------------------\n",
      "Model Output Shape: (1,)\n"
     ]
    }
   ],
   "source": [
    "import mxnet as mx\n",
    "from mxnet import autograd, gluon, init, nd\n",
    "from mxnet.gluon import nn, loss, Trainer\n",
    "# Modify the CNN model\n",
    "class SimplestCNN(nn.Block):\n",
    "    def __init__(self, **kwargs):\n",
    "        super(SimplestCNN, self).__init__(**kwargs)\n",
    "        self.conv1 = nn.Conv2D(32, kernel_size=3, activation='relu')\n",
    "        self.pool1 = nn.MaxPool2D(pool_size=2, strides=2)\n",
    "        self.flatten = nn.Flatten()\n",
    "        self.dense1 = nn.Dense(64, activation='relu')\n",
    "        self.dense2 = nn.Dense(1)\n",
    "\n",
    "    def forward(self, x):\n",
    "        x = self.pool1(self.conv1(x))\n",
    "        x = self.flatten(x)\n",
    "        x = self.dense1(x)\n",
    "        x = self.dense2(x)\n",
    "        return x\n",
    "\n",
    "\n",
    "# Initialize the simplest model\n",
    "ctx = mx.gpu() if mx.context.num_gpus() > 0 else mx.cpu()\n",
    "net = SimplestCNN()\n",
    "net.initialize(init.Xavier(), ctx=ctx)\n",
    "criterion = loss.SigmoidBinaryCrossEntropyLoss()\n",
    "optimizer = Trainer(net.collect_params(), 'adam', {'learning_rate': 0.001})\n",
    "\n",
    "\n",
    "dummy_data = mx.nd.random.uniform(shape=(batch_size, 3, 224, 224), ctx=ctx)\n",
    "net.summary(dummy_data)\n",
    "\n",
    "example_data = mx.nd.random.uniform(shape=(batch_size, 3, 224, 224), ctx=ctx)\n",
    "output = net(example_data)\n",
    "print(\"Model Output Shape:\", output.shape[1:])\n"
   ]
  },
  {
   "cell_type": "code",
   "execution_count": null,
   "metadata": {
    "colab": {
     "base_uri": "https://localhost:8080/"
    },
    "id": "LBLKSB5J0fg5",
    "outputId": "d951a93a-5215-456e-bbf8-eb520cc03b94"
   },
   "outputs": [
    {
     "name": "stdout",
     "output_type": "stream",
     "text": [
      "Epoch 1, Training Binary Accuracy: 0.25047303689687794\n",
      "Epoch 1, Validation Binary Accuracy: 0.2674858223062382\n",
      "Epoch 2, Training Binary Accuracy: 0.25047303689687794\n",
      "Epoch 2, Validation Binary Accuracy: 0.2674858223062382\n",
      "Epoch 3, Training Binary Accuracy: 0.25047303689687794\n",
      "Epoch 3, Validation Binary Accuracy: 0.2674858223062382\n",
      "Epoch 4, Training Binary Accuracy: 0.25047303689687794\n",
      "Epoch 4, Validation Binary Accuracy: 0.2674858223062382\n",
      "Epoch 5, Training Binary Accuracy: 0.25047303689687794\n",
      "Epoch 5, Validation Binary Accuracy: 0.2674858223062382\n",
      "Epoch 6, Training Binary Accuracy: 0.25047303689687794\n",
      "Epoch 6, Validation Binary Accuracy: 0.2674858223062382\n",
      "Epoch 7, Training Binary Accuracy: 0.25047303689687794\n",
      "Epoch 7, Validation Binary Accuracy: 0.2674858223062382\n",
      "Epoch 8, Training Binary Accuracy: 0.25047303689687794\n",
      "Epoch 8, Validation Binary Accuracy: 0.2674858223062382\n",
      "Epoch 9, Training Binary Accuracy: 0.25047303689687794\n",
      "Epoch 9, Validation Binary Accuracy: 0.2674858223062382\n",
      "Epoch 10, Training Binary Accuracy: 0.25047303689687794\n",
      "Epoch 10, Validation Binary Accuracy: 0.2674858223062382\n"
     ]
    }
   ],
   "source": [
    "#Training loop\n",
    "import mxnet.gluon.loss as gloss\n",
    "from mxnet.metric import Accuracy\n",
    "loss_fn = gloss.SigmoidBinaryCrossEntropyLoss()\n",
    "metric = Accuracy()\n",
    "num_epochs = 10\n",
    "for epoch in range(num_epochs):\n",
    "    # Training loop\n",
    "    for data, label in train_loader:\n",
    "        # Move data and label to the GPU if available\n",
    "        data = data.as_in_context(ctx)\n",
    "        label = label.as_in_context(ctx).astype('float32')  # Convert label to float32\n",
    "\n",
    "        # Forward pass\n",
    "        with autograd.record():\n",
    "            output = net(data)\n",
    "            loss = loss_fn(output, label)\n",
    "\n",
    "        # Backward pass\n",
    "        loss.backward()\n",
    "\n",
    "        # Update parameters\n",
    "        optimizer.step(batch_size)\n",
    "\n",
    "        # Update training metric\n",
    "        binary_output = output > 0.5  # Apply threshold for binary classification\n",
    "        metric.update([label], [binary_output])\n",
    "\n",
    "    # Get training metric result\n",
    "    name, acc = metric.get()\n",
    "    print(f\"Epoch {epoch + 1}, Training Binary Accuracy: {acc}\")\n",
    "\n",
    "    # Reset metrics for validation\n",
    "    metric.reset()\n",
    "\n",
    "    # Validation loop\n",
    "    for data, label in val_loader:\n",
    "        # Move data and label to the GPU if available\n",
    "        data = data.as_in_context(ctx)\n",
    "        label = label.as_in_context(ctx).astype('float32')  # Convert label to float32\n",
    "\n",
    "        # Forward pass\n",
    "        output = net(data)\n",
    "\n",
    "        # Update validation metric\n",
    "        binary_output = output > 0.5  # Apply threshold for binary classification\n",
    "        metric.update([label], [binary_output])\n",
    "\n",
    "    # Get validation metric result\n",
    "    name, acc = metric.get()\n",
    "    print(f\"Epoch {epoch + 1}, Validation Binary Accuracy: {acc}\")\n",
    "    # Reset metrics for the next epoch\n",
    "    metric.reset()\n"
   ]
  },
  {
   "cell_type": "code",
   "execution_count": null,
   "metadata": {
    "id": "EuCoxSaWEGOs"
   },
   "outputs": [],
   "source": [
    "# Machine Learning  Model"
   ]
  },
  {
   "cell_type": "code",
   "execution_count": null,
   "metadata": {
    "colab": {
     "base_uri": "https://localhost:8080/",
     "height": 746
    },
    "id": "BAZTGPOcHb3c",
    "outputId": "316f0626-3e79-439e-cc99-a756d19ce68e"
   },
   "outputs": [
    {
     "name": "stdout",
     "output_type": "stream",
     "text": [
      "Validation Accuracy: 0.96\n",
      "              precision    recall  f1-score   support\n",
      "\n",
      "           0       0.96      0.88      0.92       283\n",
      "           1       0.96      0.99      0.97       775\n",
      "\n",
      "    accuracy                           0.96      1058\n",
      "   macro avg       0.96      0.93      0.94      1058\n",
      "weighted avg       0.96      0.96      0.96      1058\n",
      "\n"
     ]
    },
    {
     "data": {
      "image/png": "[encoded data removed]",
      "text/plain": [
       "<Figure size 800x600 with 2 Axes>"
      ]
     },
     "metadata": {},
     "output_type": "display_data"
    }
   ],
   "source": [
    "import os\n",
    "import cv2\n",
    "import numpy as np\n",
    "from sklearn.model_selection import train_test_split\n",
    "from sklearn.svm import SVC\n",
    "from sklearn.metrics import accuracy_score, classification_report, confusion_matrix\n",
    "from sklearn.preprocessing import StandardScaler\n",
    "import seaborn as sns\n",
    "import matplotlib.pyplot as plt\n",
    "\n",
    "# Function to load and preprocess images\n",
    "def load_images(file_paths):\n",
    "    images = []\n",
    "    for path in file_paths:\n",
    "        img = cv2.imread(path, cv2.IMREAD_GRAYSCALE)\n",
    "        img = cv2.resize(img, (128, 128))  # Resize images to a common size\n",
    "        images.append(img.flatten())  # Flatten the image into a 1D array\n",
    "    return np.array(images)\n",
    "\n",
    "# Load training data\n",
    "train_images = load_images([os.path.join(training_data_path, filename) for filename in train_df['X_ray_image_name']])\n",
    "X_train, X_val, y_train, y_val = train_test_split(train_images, train_df['Label'], test_size=0.2, random_state=42)\n",
    "\n",
    "# Standardize the data\n",
    "scaler = StandardScaler()\n",
    "X_train = scaler.fit_transform(X_train)\n",
    "X_val = scaler.transform(X_val)\n",
    "\n",
    "# Train SVM\n",
    "svm = SVC(kernel='linear', C=1.0)\n",
    "svm.fit(X_train, y_train)\n",
    "\n",
    "# Make predictions on the validation set\n",
    "val_predictions = svm.predict(X_val)\n",
    "\n",
    "# Evaluate the model\n",
    "accuracy = accuracy_score(y_val, val_predictions)\n",
    "print(f'Validation Accuracy: {accuracy:.2f}')\n",
    "\n",
    "print(classification_report(y_val, val_predictions))\n",
    "\n",
    "# Generate confusion matrix\n",
    "cm = confusion_matrix(y_val, val_predictions)\n",
    "\n",
    "# Display confusion matrix using seaborn heatmap\n",
    "plt.figure(figsize=(8, 6))\n",
    "sns.heatmap(cm, annot=True, fmt=\"d\", cmap=\"Blues\", xticklabels=svm.classes_, yticklabels=svm.classes_)\n",
    "plt.title(\"Confusion Matrix\")\n",
    "plt.xlabel(\"Predicted Label\")\n",
    "plt.ylabel(\"True Label\")\n",
    "plt.show()\n"
   ]
  }
 ],
 "metadata": {
  "colab": {
   "provenance": []
  },
  "kernelspec": {
   "display_name": "Python 3 (ipykernel)",
   "language": "python",
   "name": "python3"
  },
  "language_info": {
   "codemirror_mode": {
    "name": "ipython",
    "version": 3
   },
   "file_extension": ".py",
   "mimetype": "text/x-python",
   "name": "python",
   "nbconvert_exporter": "python",
   "pygments_lexer": "ipython3",
   "version": "3.11.4"
  }
 },
 "nbformat": 4,
 "nbformat_minor": 1
}
